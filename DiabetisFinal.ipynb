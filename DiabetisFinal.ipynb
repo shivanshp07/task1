{
 "cells": [
  {
   "cell_type": "code",
   "execution_count": null,
   "metadata": {},
   "outputs": [],
   "source": [
    "import pandas as pd\n",
    "import numpy as np\n",
    "from sklearn.preprocessing import StandardScaler\n",
    "from sklearn.model_selection import train_test_split\n",
    "from sklearn import svm\n",
    "from sklearn.metrics import accuracy_score\n",
    "import warnings\n",
    "df = pd.read_csv('diabetes.csv')\n",
    "X = df.drop(columns = 'Outcome', axis = 1) #X has all the columns except outcome\n",
    "Y = df['Outcome'] #Y only the outcome column\n",
    "scaler = StandardScaler()\n",
    "scaler.fit(X)\n",
    "standard = scaler.transform(X)\n",
    "X = standard\n",
    "Y = df['Outcome']\n",
    "X_train , X_test , Y_train , Y_test = train_test_split(X,Y,test_size = 0.2,stratify=Y,random_state = 2)\n",
    "classifier = svm.SVC(kernel='linear')\n",
    "classifier.fit(X_train, Y_train)\n",
    "X_train_pred = classifier.predict(X_train)\n",
    "training_data_accuracy = accuracy_score(X_train_pred,Y_train)\n",
    "X_test_pred = classifier.predict(X_test)\n",
    "testing_data_accuracy = accuracy_score(X_test_pred,Y_test)\n",
    "Pre = int(input(\"Enter the number of pregnancies: \"))\n",
    "Glu = float(input(\"Enter the glucose levels: \"))\n",
    "BP = float(input(\"Enter the blood pressure: \"))\n",
    "ST = float(input(\"Enter the skin thickness: \"))\n",
    "Ins = float(input(\"Enter the insulin levels: \"))\n",
    "BMI = float(input(\"Enter the bmi: \"))\n",
    "DPF = float(input(\"Enter the diabetes pedigree function: \"))\n",
    "Age = int(input(\"Enter the age of the patient: \"))\n",
    "input_data=(Pre,Glu,BP,ST,Ins,BMI,DPF,Age)\n",
    "as_numpy_array = np.asarray(input_data)\n",
    "input_reshaped = as_numpy_array.reshape(1,-1)\n",
    "std_data = scaler.transform(input_reshaped)\n",
    "prediction = classifier.predict(std_data)\n",
    "warnings.filterwarnings(\"ignore\", category=UserWarning)\n",
    "if(prediction[0]==0):\n",
    "    print(\"The Patient is not Diabetic\")\n",
    "else:\n",
    "    print(\"The Patient is Diabetic\")"
   ]
  }
 ],
 "metadata": {
  "kernelspec": {
   "display_name": "Python 3 (ipykernel)",
   "language": "python",
   "name": "python3"
  },
  "language_info": {
   "codemirror_mode": {
    "name": "ipython",
    "version": 3
   },
   "file_extension": ".py",
   "mimetype": "text/x-python",
   "name": "python",
   "nbconvert_exporter": "python",
   "pygments_lexer": "ipython3",
   "version": "3.10.9"
  }
 },
 "nbformat": 4,
 "nbformat_minor": 5
}
